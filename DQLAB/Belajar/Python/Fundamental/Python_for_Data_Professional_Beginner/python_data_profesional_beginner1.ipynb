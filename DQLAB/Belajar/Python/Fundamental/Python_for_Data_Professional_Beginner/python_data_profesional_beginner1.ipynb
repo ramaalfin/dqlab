{
 "cells": [
  {
   "cell_type": "markdown",
   "metadata": {},
   "source": [
    "# Apa dan Kenapa Python – Part 1?\n",
    "\n",
    "Python adalah bahasa pemrograman yang ditujukan untuk general-purpose programming dan termasuk dalam kategori high-level programming language.\n",
    "\n",
    "Sebagai general-purpose programming language, Python digunakan untuk berbagai macam permasalahan seperti: pengembangan aplikasi web ataupun mobile, data science, dll.\n",
    "\n",
    "Python masuk ke dalam kategori high-level programming language dikarenakan bahasa pemrograman Python yang mudah untuk dibaca dan dituliskan oleh manusia.\n",
    "\n",
    "Bahasa  pemrograman  Python  diciptakan  oleh Guido van Rossum dan pertama kali diperkenalkan pada tahun 1991 sebagai sebuah proyek open-source.\n",
    "\n",
    "Sifat open-source dari Python mengartikan bahwa setiap orang dapat mengembangkan program komputer dengan menggunakan bahasa pemrograman Python baik untuk tujuan komersil/non-komersil. "
   ]
  },
  {
   "cell_type": "markdown",
   "metadata": {},
   "source": [
    "# Apa dan Kenapa Python – Part 2?\n",
    "\n",
    "Bahasa pemrograman Python bersifat dynamically typed (Python akan secara otomatis mengubah masukan dari pengguna) dan mendukung berbagai paradigma pemrograman baik pemrograman secara prosedural, berbasis objek (Object-Oriented), atau pun fungsional.\n",
    "\n",
    "Selain alasan di atas terdapat beberapa alasan lain untuk menggunakan bahasa pemrograman Python:\n",
    "\n",
    "    1. Python dikembangkan untuk bersifat extendible yang mengartikan bahwa Python dapat dikembangkan untuk berbagai macam tugas baik untuk pembuatan aplikasi web atau pun desktop, proses analisis data, dll.\n",
    "    2. Python memiliki komunitas yang besar yang secara aktif berkontribusi untuk menyediakan berbagai macam fungsionalitas (third-party libraries). Third-party libraries yang tersedia dalam bahasa pemrograman Python memungkinkan para pengembang untuk dapat fokus menyelesaikan permasalahan yang ada. Per Januari 2020, terdapat 214,922 modul third-party yang dapat kita gunakan secara cuma-cuma.\n",
    "    3. Python terintegrasi dengan baik dengan berbagai macam bahasa pemrograman dan layanan enterprise. Untuk bagian-bagian yang melibatkan sumber daya komputasi yang besar, pengembang dapat menggunakan fungsionalitas dalam bahasa pemrograman lainnya yang bersifat low-level yang telah dikemas ke dalam fungsionalitas Python.\n"
   ]
  },
  {
   "cell_type": "markdown",
   "metadata": {},
   "source": [
    "# Program pertama: \"Hello World\"\n",
    "\n",
    "Setelah memahami teori-teori fundamental terkait dengan \"Apa dan Mengapa Python?\"\n",
    "aku diminta membuat sebuah program sederhana dengan Python.\n",
    "\n",
    "Fungsi Python yang akan pertama kali aku pelajari adalah fungsi print().\n",
    "Dengan fungsi print(), aku dapat menampilkan pesan ke layar pengguna."
   ]
  },
  {
   "cell_type": "code",
   "execution_count": 1,
   "metadata": {},
   "outputs": [
    {
     "name": "stdout",
     "output_type": "stream",
     "text": [
      "Hello World!\n"
     ]
    }
   ],
   "source": [
    "print(\"Hello World!\")"
   ]
  },
  {
   "cell_type": "markdown",
   "metadata": {},
   "source": [
    "# Struktur Program Python - Part 1\n",
    "\n",
    "Setelah berhasil membuat program sederhana menggunakan Python, aku diminta Senja untuk belajar struktur dari sebuah program Python.\n",
    "\n",
    " \n",
    "\n",
    "Dari situ aku paham sebuah program Python pada umumnya terdiri dari:\n",
    "\n",
    "1. Statements: Instruksi yang diberikan secara baris per baris untuk dijalankan oleh mesin. Contoh: "
   ]
  },
  {
   "cell_type": "code",
   "execution_count": 2,
   "metadata": {},
   "outputs": [
    {
     "name": "stdout",
     "output_type": "stream",
     "text": [
      "Belajar Python Menyenangkan\n",
      "Halo Dunia\n",
      "Hello World!\n"
     ]
    }
   ],
   "source": [
    "print(\"Belajar Python Menyenangkan\") \n",
    "print(\"Halo Dunia\")\n",
    "print(\"Hello World!\")"
   ]
  },
  {
   "cell_type": "markdown",
   "metadata": {},
   "source": [
    "2. Variables: Lokasi penyimpanan yang dapat digunakan untuk menampung sebuah data atau informasi. Contoh: aku mempunyai variabel yang bernama bilangan1, bilangan2, dan kalimat1"
   ]
  },
  {
   "cell_type": "code",
   "execution_count": 3,
   "metadata": {},
   "outputs": [],
   "source": [
    "bilangan1 = 5\n",
    "bilangan2 = 10\n",
    "kalimat1 = \"Belajar Bahasa Python\""
   ]
  },
  {
   "cell_type": "markdown",
   "metadata": {},
   "source": [
    "3. Literals: Simbol-simbol yang dapat kita gunakan untuk mengisi suatu variabel. Pada kode yang telah dicontohkan di atas, angka 5 dan 10 serta 'Belajar Bahasa Python' disebut sebagai literal.\n",
    "\n",
    "\n",
    "4. Operators: Simbol-simbol yang dapat digunakan untuk mengubah nilai dari satu variabel dengan melibatkan satu atau lebih variabel dan literal. Contoh: Tanda + merupakan salah satu contoh operator. Dengan menggunakan tanda +, aku berhasil menambahkan isi dari bilangan1 dan bilangan2!"
   ]
  },
  {
   "cell_type": "code",
   "execution_count": 4,
   "metadata": {},
   "outputs": [
    {
     "name": "stdout",
     "output_type": "stream",
     "text": [
      "15\n"
     ]
    }
   ],
   "source": [
    "# Operators\n",
    "print(bilangan1 + bilangan2)"
   ]
  },
  {
   "cell_type": "markdown",
   "metadata": {},
   "source": [
    "Tugas:\n",
    "\n",
    "    1. Aku diminta menghitung harga_setelah_potongan dan harga_final dengan mengalikan harga_setelah_potongan dengan angka 1.1 karena jumlah PPN sebesar 10% (100% + 10% = 110% atau 1.1)\n",
    "    2. Aku menggunakan variabel harga_asli dengan nilai 20000 dan variabel potongan dengan nilai 2000.\n"
   ]
  },
  {
   "cell_type": "code",
   "execution_count": 5,
   "metadata": {},
   "outputs": [
    {
     "name": "stdout",
     "output_type": "stream",
     "text": [
      "19800.0\n"
     ]
    }
   ],
   "source": [
    "harga_asli = 20000\n",
    "potongan = 2000\n",
    "harga_setelah_potongan = harga_asli - potongan \n",
    "harga_final = harga_setelah_potongan * 1.1\n",
    "print(harga_final)"
   ]
  },
  {
   "cell_type": "markdown",
   "metadata": {},
   "source": [
    "# Struktur Program Python - Part 2\n",
    "\n",
    "Setelah mengerjakan tugas yang diberikan Senja, aku kembali lanjut belajar. \n",
    "\n",
    "1. Reserved Words: Kumpulan kata-kata yang memiliki makna khusus dalam bahasa pemrograman Python. Kata False, return, dan for merupakan contoh dari reserved words.\n",
    "\n",
    "Catatan: Ternyata, aku tidak dapat mendeklarasikan variabel dengan menggunakan sebuah reserved word!\n",
    "\n",
    "\n",
    "2. Whitespace: Pada bahasa Python, spasi dan tab memiliki makna khusus untuk menandai serangkaian blok dalam kode Python. Hal ini akan dijelaskan secara lebih lanjut pada bagian struktur pemilihan dan struktur pengulangan pada bahasa Python.\n",
    "\n",
    "3. Comments: Comments merupakan sekumpulan teks yang dituliskan di dalam sebuah program yang tidak akan mempengaruhi hasil dari sebuah program. Walaupun tidak mempengaruhi hasil program, comments merupakan salah satu komponen yang penting dalam pengembangan program. Hal tersebut dikarenakan comments dapat diselipkan di antara sekumpulan statements yang telah dituliskan, untuk berkomunikasi dengan rekan programmer lainnya dalam satu tim. \n",
    "\n",
    "Terdapat dua jenis comments di dalam Python, yaitu:\n",
    "a. single line comment (comments dalam satu baris) seperti pada contoh berikut:"
   ]
  },
  {
   "cell_type": "code",
   "execution_count": 6,
   "metadata": {},
   "outputs": [],
   "source": [
    "#perintah pada baris ini tidak memengaruhi program"
   ]
  },
  {
   "cell_type": "markdown",
   "metadata": {},
   "source": [
    "b. multi line comment (comments dalam beberapa baris) yang dapat dituliskan seperti pada contoh berikut:"
   ]
  },
  {
   "cell_type": "code",
   "execution_count": 7,
   "metadata": {},
   "outputs": [
    {
     "data": {
      "text/plain": [
       "'\\nperintah pada baris ini tidak memengaruhi program \\nperintah pada baris ini tidak memengaruhi program\\n'"
      ]
     },
     "execution_count": 7,
     "metadata": {},
     "output_type": "execute_result"
    }
   ],
   "source": [
    "\"\"\"\n",
    "perintah pada baris ini tidak memengaruhi program \n",
    "perintah pada baris ini tidak memengaruhi program\n",
    "\"\"\""
   ]
  },
  {
   "cell_type": "markdown",
   "metadata": {},
   "source": [
    "# Aturan Penamaan Python Variables\n",
    "\n",
    "Penamaan suatu variabel pada python dapat dikatakan valid selama memenuhi aturan-aturan berikut:\n",
    "\n",
    "    1. Nama dari sebuah variabel harus dimulai dengan huruf (a-z, A-Z) atau karakter garis bawah underscore (_) dan tidak dapat dimulai dengan angka (0-9).\n",
    "    2. Variabel hanya boleh mengandung karakter alfabet dan bilangan dan underscore (a-z, A-Z, 0-9, _)\n",
    "    3. Variabel bersifat case-sensitive yang mengartikan bahwa variabel TINGGI, tinggi, dan Tinggi merujuk pada tiga variabel berbeda.\n",
    "\n",
    "Kemudian, selain dapat mendeklarasikan nilai dari suatu variabel secara baris per baris, aku juga dapat mendeklarasikan beberapa variabel dalam satu baris dengan menggunakan ekspresi seperti:"
   ]
  },
  {
   "cell_type": "code",
   "execution_count": 8,
   "metadata": {},
   "outputs": [
    {
     "ename": "SyntaxError",
     "evalue": "cannot assign to literal (<ipython-input-8-1fcdbe377cf1>, line 2)",
     "output_type": "error",
     "traceback": [
      "\u001b[1;36m  File \u001b[1;32m\"<ipython-input-8-1fcdbe377cf1>\"\u001b[1;36m, line \u001b[1;32m2\u001b[0m\n\u001b[1;33m    salam = \"Selamat Pagi\", penutup = \"Salam Sejahtera\"\u001b[0m\n\u001b[1;37m            ^\u001b[0m\n\u001b[1;31mSyntaxError\u001b[0m\u001b[1;31m:\u001b[0m cannot assign to literal\n"
     ]
    }
   ],
   "source": [
    "bil1, bil2 = 3, 4\n",
    "salam = \"Selamat Pagi\", penutup = \"Salam Sejahtera\""
   ]
  },
  {
   "cell_type": "markdown",
   "metadata": {},
   "source": [
    "# Tipe Data Dasar: Null, Boolean, Numeric dan Text\n",
    "\n",
    "1. Null Type: Tipe data null dalam Python digunakan untuk menyimpan nilai kosong atau tidak ada yang dinyatakan dengan None.\n",
    "\n",
    "2. Boolean Type: Tipe data boolean atau bool digunakan untuk menyimpan nilai kebenaran (True, False) dari suatu ekspresi logika.\n",
    "\n",
    "3. Numeric Type: Tipe data yang digunakan untuk menyimpan data berupa angka. Terdapat dua macam tipe data numeric, yaitu int untuk menyimpan bilangan bulat (e.g.: 0, 1, 2, 404, -500, -1000) dan float untuk menyimpan bilangan riil (e.g.: 0.5, 1.01, 2.05, 4.04)\n",
    "\n",
    "4. Text Type: Pada Python, tipe data string (str) digunakan untuk menyimpan data teks. Tipe data string dimulai dengan tanda kutip (baik kutip satu/ dua) dan diakhir dengan tanda kutip. Contoh: \"Teks\", \"Contoh teks menggunakan Python\", dan 'Teks pada Python'."
   ]
  },
  {
   "cell_type": "markdown",
   "metadata": {},
   "source": [
    "# Sequence Type – Part 1\n",
    "\n",
    "Tipe data ini digunakan untuk menampung sekumpulan data secara terorganisir.\n",
    "List dan tuple merupakan bentuk dari tipe data sequence.\n",
    "Pada part 1 ini, aku akan mempelajari tipe data list terlebih dahulu.\n",
    "\n",
    "Tipe data list diawali dengan tanda kurung siku buka ( [ ), memisahkan setiap elemen di dalamnya dengan tanda koma ( , ) dan ditutup dengan kurung siku tutup ( ] ). Setiap elemen dari list memiliki indeks yang dimulai dari angka 0 dan terus bertambah satu nilainya hingga elemen terakhir dari list. Tipe data list bersifat mutable yang berarti setiap elemen di dalam list dapat dirubah nilainya setelah proses pendeklarasian list\n",
    "                                                        "
   ]
  },
  {
   "cell_type": "code",
   "execution_count": 9,
   "metadata": {},
   "outputs": [
    {
     "name": "stdout",
     "output_type": "stream",
     "text": [
      "1\n",
      "4.0\n",
      "empat\n"
     ]
    }
   ],
   "source": [
    "contoh_list = [1, 'dua', 3, 4.0, 5]\n",
    "print(contoh_list[0])\n",
    "print(contoh_list[3])\n",
    "contoh_list = [1, 'dua', 3, 4.0, 5]\n",
    "contoh_list[3] = 'empat'\n",
    "print(contoh_list[3])"
   ]
  },
  {
   "cell_type": "markdown",
   "metadata": {},
   "source": [
    "# Sequence Type – Part 2\n",
    "\n",
    "Setelah mempelajari tipe data list. Aku mempelajari tipe data tuple. Tipe data tuple juga berfungsi untuk menampung sekumpulan data. Tipe data tuple diawali dengan tanda kurung buka ( ( ), memisahkan setiap elemen di dalamnya dengan tanda koma ( , ) dan ditutup dengan tanda kurung tutup ( ) ). Aturan indeks dan cara mengakses elemen pada sebuah tuple serupa dengan list. Berbeda dengan tipe data list, tipe data tuple bersifat immutable yang berarti elemen pada tipe data tuple tidak dapat diubah setelah proses pendeklarasiannya. "
   ]
  },
  {
   "cell_type": "code",
   "execution_count": 10,
   "metadata": {},
   "outputs": [
    {
     "name": "stdout",
     "output_type": "stream",
     "text": [
      "Januari\n"
     ]
    },
    {
     "ename": "TypeError",
     "evalue": "'tuple' object does not support item assignment",
     "output_type": "error",
     "traceback": [
      "\u001b[1;31m---------------------------------------------------------------------------\u001b[0m",
      "\u001b[1;31mTypeError\u001b[0m                                 Traceback (most recent call last)",
      "\u001b[1;32m<ipython-input-10-d59f11471683>\u001b[0m in \u001b[0;36m<module>\u001b[1;34m\u001b[0m\n\u001b[0;32m      2\u001b[0m \u001b[0mprint\u001b[0m\u001b[1;33m(\u001b[0m\u001b[0mcontoh_tuple\u001b[0m\u001b[1;33m[\u001b[0m\u001b[1;36m0\u001b[0m\u001b[1;33m]\u001b[0m\u001b[1;33m)\u001b[0m\u001b[1;33m\u001b[0m\u001b[1;33m\u001b[0m\u001b[0m\n\u001b[0;32m      3\u001b[0m \u001b[0mcontoh_tuple\u001b[0m \u001b[1;33m=\u001b[0m \u001b[1;33m(\u001b[0m\u001b[1;34m\"Januari\"\u001b[0m\u001b[1;33m,\u001b[0m \u001b[1;34m\"Februari\"\u001b[0m\u001b[1;33m,\u001b[0m \u001b[1;34m\"Maret\"\u001b[0m\u001b[1;33m,\u001b[0m \u001b[1;34m\"April\"\u001b[0m\u001b[1;33m)\u001b[0m\u001b[1;33m\u001b[0m\u001b[1;33m\u001b[0m\u001b[0m\n\u001b[1;32m----> 4\u001b[1;33m \u001b[0mcontoh_tuple\u001b[0m\u001b[1;33m[\u001b[0m\u001b[1;36m0\u001b[0m\u001b[1;33m]\u001b[0m \u001b[1;33m=\u001b[0m \u001b[1;34m\"Desember\"\u001b[0m\u001b[1;33m\u001b[0m\u001b[1;33m\u001b[0m\u001b[0m\n\u001b[0m",
      "\u001b[1;31mTypeError\u001b[0m: 'tuple' object does not support item assignment"
     ]
    }
   ],
   "source": [
    "contoh_tuple = (\"Januari\", \"Februari\", \"Maret\", \"April\")\n",
    "print(contoh_tuple[0])\n",
    "contoh_tuple = (\"Januari\", \"Februari\", \"Maret\", \"April\")\n",
    "contoh_tuple[0] = \"Desember\""
   ]
  },
  {
   "cell_type": "markdown",
   "metadata": {},
   "source": [
    "# Set Type\n",
    "\n",
    "Serupa dengan tipe data sequence, tipe data set digunakan untuk menampung sekumpulan data dengan tipe lainnya. Terdapat dua jenis dari tipe data set yaitu, set dan frozenset.\n",
    "\n",
    "Tipe data set diawali dengan tanda kurung buka kurawal ( { ), memisahkan setiap elemen di dalamnya dengan tanda koma ( , ) dan ditutup dengan tanda kurung tutup ( } ). Namun, berbeda dengan tipe data sequence, seperti list, tipe data objek tidak mengizinkan adanya elemen dengan nilai yang sama dan tidak memperdulikan urutan dari elemen. "
   ]
  },
  {
   "cell_type": "code",
   "execution_count": 11,
   "metadata": {},
   "outputs": [
    {
     "name": "stdout",
     "output_type": "stream",
     "text": [
      "['Dewi', 'Budi', 'Cici', 'Linda', 'Cici']\n",
      "{'Linda', 'Dewi', 'Budi', 'Cici'}\n"
     ]
    }
   ],
   "source": [
    "contoh_list = ['Dewi', 'Budi','Cici', 'Linda', 'Cici']\n",
    "print(contoh_list)\n",
    "contoh_set = {'Dewi', 'Budi', 'Cici', 'Linda', 'Cici'}\n",
    "print(contoh_set)"
   ]
  },
  {
   "cell_type": "markdown",
   "metadata": {},
   "source": [
    "Dari kedua contoh output pada program, dapat terlihat:\n",
    "\n",
    "    1. Berbeda dengan tipe data set, tipe data list memperdulikan urutan dari setiap elemen saat list dideklarasikan.\n",
    "    2. Berbeda dengan list yang mengizinkan adanya duplikasi elemen, tipe data set tidak mengizinkan adanya elemen dengan nilai yang sama di dalamnya. \n",
    "\n",
    "Keunikan dari kedua tipe data ini tentunya menjadi pengetahuan yang berguna.\n",
    "Dan aku akan mempelajarinya kembali pada bagian struktur kontrol pengulangan!\n",
    "\n",
    "Bagaimana dengan tipe data frozenset? Tipe data frozenset sebenarnya hanya merupakan set yang bersifat immutable, yang artinya setiap elemen di dalam frozenset tidak dapat diubah setelah proses deklarasinya. Untuk membuat tipe data frozenset, aku dapat merujuk potongan kode di bawah ini:"
   ]
  },
  {
   "cell_type": "code",
   "execution_count": 12,
   "metadata": {},
   "outputs": [
    {
     "name": "stdout",
     "output_type": "stream",
     "text": [
      "{'Linda', 'Dewi', 'Budi', 'Cici'}\n"
     ]
    }
   ],
   "source": [
    "contoh_frozen_set = ({'Dewi', 'Budi', 'Cici', 'Linda', 'Cici'})\n",
    "print(contoh_frozen_set)"
   ]
  },
  {
   "cell_type": "markdown",
   "metadata": {},
   "source": [
    "# Mapping Type\n",
    "\n",
    "Tipe data mapping dapat digunakan untuk memetakan sebuah nilai ke nilai lainnya. Dalam Python, tipe data mapping disebut dengan istilah dictionary. Tipe data dictionary dapat dideklarasikan dengan diawali oleh tanda kurung buka kurawal ( { ), memisahkan setiap elemen di dalamnya dengan tanda koma ( , ) dan ditutup dengan tanda kurung tutup ( } ). Setiap elemen pada tipe data dictionary dideklarasikan dengan format:\n",
    "\n",
    "\"kunci\" : \"nilai\""
   ]
  },
  {
   "cell_type": "markdown",
   "metadata": {},
   "source": [
    "Hal inilah yang membedakan tipe data mapping dengan tipe data set. Untuk lebih memperjelas tipe data mapping, aku mempelajari potongan kode berikut:"
   ]
  },
  {
   "cell_type": "code",
   "execution_count": 13,
   "metadata": {},
   "outputs": [],
   "source": [
    "person = {'nama':'John Doe', 'pekerjaan':'Programmer'}"
   ]
  },
  {
   "cell_type": "markdown",
   "metadata": {},
   "source": [
    "Potongan kode di atas adalah contoh pendeklarasian dari tipe data dictionary. Kemudian, bagaimana dengan cara mengakses informasi dari tipe data ini? "
   ]
  },
  {
   "cell_type": "code",
   "execution_count": null,
   "metadata": {
    "scrolled": true
   },
   "outputs": [],
   "source": [
    "print(person['nama'])\n",
    "print(person['pekerjaan'])"
   ]
  },
  {
   "cell_type": "markdown",
   "metadata": {},
   "source": [
    "# Tugas Praktek\n",
    "\n",
    "Ternyata seru juga! Aku jadi berniat mengembangkan program kalkulator potongan harga ini untuk beberapa barang sekaligus agar lebih fungsional. Kalau begitu aku perlu rapikan dulu informasi setiap barang di tabel ini.\n",
    "\n",
    "“Lalu, aku tinggal merepresentasikan semuanya ke tipe data dictionary, dengan begitu akan lebih mudah mengolahnya,” gumamku.\n",
    "Aku pun mulai mendeklarasikan variabel sepatu, baju, dan celana untuk menampung informasi barang ke dalam live code editor.\n",
    "\n",
    "Setelah berhasil merepresentasikan setiap barang ke dalam tipe data dictionary dengan variabel nama, harga, dan diskon, langkahku selanjutnya adalah: mendeklarasikan list dengan nama daftar_belanja yang berisi data sepatu, baju, dan celana.\n",
    "\n",
    "\n",
    "Dengan data yang aku miliki, aku bisa menghitung total harga jual dengan potongan harga dengan pajak sebesar 10% dari nilai jual.\n",
    "\n",
    "Untungnya Senja memberikan beberapa tips untuk menyelesaikan tugas ini:\n",
    "\n",
    "    Tips 1. # Data yang dinyatakan ke dalam dictionary\n",
    "    Tips 2. # Hitung harga masing-masing data setelah dikurangi diskon\n",
    "    Tips 3. # Hitung harga total\n",
    "    Tips 4. # Hitung harga kena pajak\n",
    "    Tips 5. # Cetak total_harga + total_pajak\n"
   ]
  },
  {
   "cell_type": "code",
   "execution_count": 14,
   "metadata": {},
   "outputs": [
    {
     "name": "stdout",
     "output_type": "stream",
     "text": [
      "365200.0\n"
     ]
    }
   ],
   "source": [
    "# Data yang dinyatakan ke dalam dictionary\n",
    "sepatu = {\"nama\": \"Sepatu Niko\", \"harga\": 150000, \"diskon\": 30000} \n",
    "baju = {\"nama\": \"Baju Unikloh\", \"harga\": 80000, \"diskon\": 8000} \n",
    "celana = {\"nama\": \"Celana Lepis\", \"harga\": 200000, \"diskon\": 60000}\n",
    "# Hitunglah harga masing-masing data setelah dikurangi diskon\n",
    "harga_sepatu = sepatu[\"harga\"] - sepatu[\"diskon\"] \n",
    "harga_baju = baju[\"harga\"] - baju[\"diskon\"]\n",
    "harga_celana = celana[\"harga\"] - celana[\"diskon\"]\n",
    "# Hitung harga total\n",
    "total_harga = harga_sepatu + harga_baju + harga_celana\n",
    "# Hitung harga kena pajak\n",
    "total_pajak = total_harga * 0.1\n",
    "# Cetak total_harga + total_pajak\n",
    "print(total_harga+total_pajak)"
   ]
  },
  {
   "attachments": {
    "aritmatika.png": {
     "image/png": "[encoded data removed]"
    }
   },
   "cell_type": "markdown",
   "metadata": {},
   "source": [
    "# Arithmetic Operators\n",
    "\n",
    "Operator arithmetic digunakan pada tipe data numerik, untuk melakukan operasi matematika sederhana yang terdiri atas:\n",
    "![aritmatika.png](attachment:aritmatika.png)"
   ]
  },
  {
   "attachments": {
    "assignment.png": {
     "image/png": "[encoded data removed]"
    }
   },
   "cell_type": "markdown",
   "metadata": {},
   "source": [
    "# Assignment Operators\n",
    "\n",
    "Operator assignment digunakan untuk mendeklarasikan nilai secara langsung ke suatu variabel.\n",
    "![assignment.png](attachment:assignment.png)"
   ]
  },
  {
   "attachments": {
    "comparison.png": {
     "image/png": "[encoded data removed]"
    }
   },
   "cell_type": "markdown",
   "metadata": {},
   "source": [
    "# Comparison Operators\n",
    "\n",
    "Operator comparison dapat digunakan untuk membandingkan dua buah nilai, berikut merupakan contoh-contoh operator komparasi.\n",
    "![comparison.png](attachment:comparison.png)"
   ]
  },
  {
   "attachments": {
    "logical.png": {
     "image/png": "[encoded data removed]"
    }
   },
   "cell_type": "markdown",
   "metadata": {},
   "source": [
    "# Logical Operators\n",
    "\n",
    "Operator logical digunakan untuk menggabungkan beberapa nilai kebenaran atas suatu statemen logika.\n",
    "![logical.png](attachment:logical.png)"
   ]
  },
  {
   "attachments": {
    "identity.png": {
     "image/png": "[encoded data removed]"
    }
   },
   "cell_type": "markdown",
   "metadata": {},
   "source": [
    "# Identity Operators\n",
    "\n",
    "Operator identitas dapat digunakan untuk membandingkan identitas dari dua buah variabel.\n",
    "![identity.png](attachment:identity.png)\n",
    "\n",
    "Pada umumnya, operator identitas sering digunakan bersamaan dengan fungsi type(), fungsi type() menerima sebuah objek dan mengembalikan tipe data dari objek tersebut. Contoh penggunaan operator identitas dan fungsi type()."
   ]
  },
  {
   "cell_type": "code",
   "execution_count": 15,
   "metadata": {},
   "outputs": [
    {
     "name": "stdout",
     "output_type": "stream",
     "text": [
      "True\n",
      "True\n"
     ]
    }
   ],
   "source": [
    "x = 10\n",
    "print(type(x) is int) #True\n",
    "\n",
    "x /= 3\n",
    "print(type(x) is float) #True"
   ]
  },
  {
   "attachments": {
    "membership.png": {
     "image/png": "[encoded data removed]"
    }
   },
   "cell_type": "markdown",
   "metadata": {},
   "source": [
    "# Membership Operators\n",
    "\n",
    "Operator keanggotaan (membership) dapat digunakan untuk memeriksa anggota dari sebuah tipe data sequence/set, operator keanggotaan meliputi:\n",
    "![membership.png](attachment:membership.png)"
   ]
  },
  {
   "cell_type": "markdown",
   "metadata": {},
   "source": [
    "# Nilai Prioritas Operator dalam Python – Part 1\n",
    "\n",
    "Setelah mempelajari berbagai operator dalam bahasa pemrograman Python, tentunya aku juga ingin agar dapat menuliskan operasi-operasi variabel yang bersifat ekspresif dan ringkas.\n",
    "\n",
    "Sebagai contoh, untuk menuliskan sebuah program menghitung diskon dan pajak pembelian, berdasarkan ilmu yang telah aku pelajari, aku dapat menuliskannya dengan potongan kode berikut"
   ]
  },
  {
   "cell_type": "code",
   "execution_count": 16,
   "metadata": {},
   "outputs": [
    {
     "name": "stdout",
     "output_type": "stream",
     "text": [
      "Kode awal - harga_bayar= 115500.0\n"
     ]
    }
   ],
   "source": [
    "# Kode awal\n",
    "total_harga = 150000\n",
    "potongan_harga = 0.3\n",
    "pajak = 0.1 # pajak dalam persen ~ 10%\n",
    "harga_bayar = 1 - 0.3 # baris pertama\n",
    "harga_bayar *= total_harga  # baris kedua\n",
    "pajak_bayar = pajak * harga_bayar # baris ketiga\n",
    "harga_bayar += pajak_bayar # baris ke-4\n",
    "print(\"Kode awal - harga_bayar=\", harga_bayar)"
   ]
  },
  {
   "cell_type": "markdown",
   "metadata": {},
   "source": [
    "Setelah aku memberikan potongan kode yang telah kubuat, ternyata Senja memiliki ide yang lebih baik. Wajar saja, Senja menjadi mentorku. Senja langsung mencontohkan cara lebih mudah dengan menjelaskan presedensi (urutan eksekusi) dari operator.\n",
    "\n",
    "Dengan mengikuti masukan Senja, aku dapat menuliskannya ke dalam jumlah baris yang lebih sedikit seperti pada potongan kode berikut"
   ]
  },
  {
   "cell_type": "code",
   "execution_count": 17,
   "metadata": {},
   "outputs": [
    {
     "name": "stdout",
     "output_type": "stream",
     "text": [
      "Penyederhanaan kode - harga_bayar= 115500.0\n"
     ]
    }
   ],
   "source": [
    "# Penyederhanaan baris kode dengan menerapkan prioritas operator\n",
    "total_harga = 150000\n",
    "potongan_harga = 0.3\n",
    "pajak = 0.1 # pajak dalam persen ~ 10%\n",
    "harga_bayar = (1 - 0.3) * total_harga #baris pertama \n",
    "harga_bayar += harga_bayar * pajak # baris kedua\n",
    "print(\"Penyederhanaan kode - harga_bayar=\", harga_bayar)"
   ]
  },
  {
   "attachments": {
    "operator_prioritas.png": {
     "image/png": "[encoded data removed]"
    }
   },
   "cell_type": "markdown",
   "metadata": {},
   "source": [
    "# Nilai Prioritas Operator dalam Python – Part 2\n",
    "\n",
    "Dalam bahasa pemrograman Python, tabel berikut mencakup nilai prioritas dan arah pengerjaan dari setiap operator.\n",
    "![operator_prioritas.png](attachment:operator_prioritas.png)\n",
    "\n",
    "Dari tabel di atas, dapat terlihat bahwa tanda () memiliki nilai prioritas yang paling tinggi. Hal itu menandakan, jika di dalam suatu statemen yang melibatkan beberapa operator secara sekaligus, setiap operasi yang berada di dalam tanda () akan dikerjakan terlebih dahulu.\n",
    "Kemudian, jika terdapat beberapa operasi dalam tanda (), tanda kurung yang berada di sebelah paling kiri akan dikerjakan terlebih dahulu dikarenakan arah pengerjaan dari tanda () adalah dari kiri ke kanan."
   ]
  },
  {
   "cell_type": "markdown",
   "metadata": {},
   "source": [
    "# Tugas Praktek\n",
    "\n",
    "Aku baru sadar kalau ternyata dengan struktur penulisan yang tepat, penulisan syntax dapat dipersingkat untuk menjadi lebih simpel. \n",
    "\n",
    "Kenapa tidak terpikirkan olehku ya? Harusnya aku tidak perlu mendeklarasikan variabel total_pajak dan aku bisa langsung menampung hasil perhitungan akhir saat mendeklarasikan variabel total_harga. Jadi, kodeku akan berjalan jika aku menambahkan setiap harga barang yang telah dipotong diskon sebelum menghitung pajak."
   ]
  },
  {
   "cell_type": "code",
   "execution_count": 18,
   "metadata": {},
   "outputs": [
    {
     "name": "stdout",
     "output_type": "stream",
     "text": [
      "365200.00000000006\n"
     ]
    }
   ],
   "source": [
    "sepatu = { \"nama\" : \"Sepatu Niko\", \"harga\": 150000, \"diskon\": 30000 }\n",
    "baju = { \"nama\" : \"Baju Unikloh\", \"harga\": 80000, \"diskon\": 8000 }\n",
    "celana = { \"nama\" : \"Celana Lepis\", \"harga\": 200000, \"diskon\": 60000 }\n",
    "harga_sepatu = sepatu[\"harga\"] - sepatu[\"diskon\"]\n",
    "harga_baju = baju[\"harga\"] - baju[\"diskon\"]\n",
    "harga_celana = celana[\"harga\"] - celana[\"diskon\"]\n",
    "total_harga = (harga_sepatu + harga_baju + harga_celana) * 1.1\n",
    "print(total_harga)"
   ]
  },
  {
   "cell_type": "markdown",
   "metadata": {},
   "source": [
    "# Python Conditioning for Decision – Part 1\n",
    "\n",
    "Layaknya bahasa pemrograman lainnya, bahasa pemrograman Python menyediakan statemen desisi (decision statement) untuk berinteraksi dengan variabel bertipe boolean dan operator logika. Statemen desisi dalam Python dapat dituliskan dengan menggunakan format berikut,\n",
    "\n",
    "if conditions:\n",
    "    do_action_1\n",
    "    ...\n",
    "    do_action_n\n",
    "\n",
    "Dengan <conditions> berisikan operator yang mengembalikan nilai kebenaran; ataupun beberapa operator yang mengembalikan nilai kebenaran, yang digabungkan dengan operator logika.  Melalui  sebuah statemen desisi (if statement), <do_action_1> sampai dengan <do_action_n> akan dijalankan saat <conditions> bernilai True.\n",
    "\n",
    " \n",
    "\n",
    "Dalam menuliskan serangkaian aksi (<do_action_1>, ... , <do_action_n>) dalam sebuah statemen if, aku harus mengemas setiap aksi dalam sebuah blok dengan menambahkan indentasi (jorokan) dari pada aksi.\n",
    "\n",
    "Aku tidak sabar untuk mempraktekkannya."
   ]
  },
  {
   "cell_type": "markdown",
   "metadata": {},
   "source": [
    "\n",
    "# Python Conditioning for Decision – Part 2"
   ]
  },
  {
   "cell_type": "code",
   "execution_count": 19,
   "metadata": {},
   "outputs": [
    {
     "name": "stdout",
     "output_type": "stream",
     "text": [
      "x habis dibagi dua\n"
     ]
    }
   ],
   "source": [
    "# Statement if\n",
    "x = 4\n",
    "if x % 2 == 0: # jika sisa bagi x dengan 2 sama dengan 0\n",
    "    print(\"x habis dibagi dua\") # statemen aksi lebih menjorok ke dalam"
   ]
  },
  {
   "cell_type": "markdown",
   "metadata": {},
   "source": [
    "Kemudian, untuk melengkapi sebuah statement if, aku bisa menambahkan satu ataupun lebih statemen desisi elif, untuk melakukan pengecekan kondisi lainnya, saat kondisi dalam statement if atau elif di atasnya tidak terpenuhi."
   ]
  },
  {
   "cell_type": "markdown",
   "metadata": {},
   "source": [
    "Tugas:"
   ]
  },
  {
   "cell_type": "code",
   "execution_count": 20,
   "metadata": {},
   "outputs": [
    {
     "name": "stdout",
     "output_type": "stream",
     "text": [
      "x tidak habis dibagi dua, tiga ataupun lima\n"
     ]
    }
   ],
   "source": [
    "# Statement if ... elif ... else\n",
    "x = 7\n",
    "if x % 2 == 0: # jika sisa bagi x dengan 2 sama dengan 0\n",
    "    print(\"x habis dibagi dua\")\n",
    "elif x % 3 == 0: # jika sisa bagi x dengan 3 sama dengan 0\n",
    "    print(\"x habis dibagi tiga\")\n",
    "elif x % 5 == 0: # jika sisa bagi x dengan 5 sama dengan 0\n",
    "    print(\"x habis dibagi lima\")\n",
    "else:\n",
    "    print(\"x tidak habis dibagi dua, tiga ataupun lima\")"
   ]
  },
  {
   "cell_type": "markdown",
   "metadata": {},
   "source": [
    "# Python Conditioning for Decision – Part 3\n",
    "\n",
    "Dari yang aku pelajari pada bagian awal dari statemen desisi, operator desisi juga dapat digunakan dengan operator logika. \n",
    "\n",
    "Sebagai catatan tambahan, aku juga belajar bahwa aksi dalam sebuah desisi statemen dapat dituliskan desisi statemen tambahan (lainnya) yang dikenal dengan istilah nested if."
   ]
  },
  {
   "cell_type": "code",
   "execution_count": 21,
   "metadata": {},
   "outputs": [
    {
     "name": "stdout",
     "output_type": "stream",
     "text": [
      "Selamat siang!\n"
     ]
    }
   ],
   "source": [
    "#TUGAS\n",
    "jam = 13\n",
    "if jam >= 5 and jam < 12: # selama jam di antara 5 s.d. 12\n",
    "    print(\"Selamat pagi!\")\n",
    "elif jam >= 12 and jam < 17 : # selama jam di antara 12 s.d. 17\n",
    "    print(\"Selamat siang!\")\n",
    "elif jam >= 17 and jam < 19: # selama jam di antara 17 s.d. 19\n",
    "    print(\"Selamat sore!\")\n",
    "else: # selain kondisi di atas\n",
    "    print(\"Selamat malam!\")"
   ]
  },
  {
   "cell_type": "markdown",
   "metadata": {},
   "source": [
    "# Tugas Praktek\n",
    "\n",
    "Aku diminta tolong Senja untuk menghitung tagihan pembayaran karena saat ini prosesnya masih manual.\n",
    "Tugas:\n",
    "\n",
    "“Aksara, kantor kita akan merilis penawaran baru terkait jasa pembuatan data warehouse. Bisa tolong kembangkan kalkulatormu untuk menghitung tagihan pembayaran? Soalnya selama ini kita masih manual,” jelas Senja sembari memberikan contoh nota tagihan kantor.\n",
    "\n",
    "Aku belum mengiyakan karena sedikit ragu. Mengingat sebelumnya aku sempat salah. Tapi dalam hati aku berkata, pasti bisa! Kali ini aku harus mampu membuat kalkulator lebih rumit.\n",
    "\n",
    "Solusi yang terlintas dalam bayanganku: Kalkulator ini harus dapat menghitung subtotal setiap jasa yang diambil dari kolom harga/ hari dan total hari dari setiap jasa. Ternyata Senja juga memikirkan hal yang sama dengan instruksinya yang sangat membantu."
   ]
  },
  {
   "cell_type": "code",
   "execution_count": 22,
   "metadata": {},
   "outputs": [
    {
     "name": "stdout",
     "output_type": "stream",
     "text": [
      "Tagihan kepada:\n",
      "Mr. Yoyo\n",
      "Selamat pagi, anda harus membayar tagihan sebesar:\n",
      "85000000\n"
     ]
    }
   ],
   "source": [
    "#TUGAS\n",
    "tagihan_ke = 'Mr. Yoyo'\n",
    "warehousing = { 'harga_harian': 1000000, 'total_hari':15 } \n",
    "cleansing = { 'harga_harian': 1500000, 'total_hari':10 } \n",
    "integration = { 'harga_harian':2000000, 'total_hari':15 } \n",
    "transform = { 'harga_harian':2500000, 'total_hari':10 }\n",
    "sub_warehousing = warehousing['harga_harian'] * warehousing['total_hari']\n",
    "sub_cleansing = cleansing['harga_harian'] * cleansing['total_hari']\n",
    "sub_integration = integration['harga_harian'] * integration['total_hari']\n",
    "sub_transform = transform['harga_harian'] * transform['total_hari']\n",
    "total_harga = sub_warehousing + sub_cleansing + sub_integration + sub_transform \n",
    "print(\"Tagihan kepada:\") \n",
    "print(tagihan_ke)\n",
    "print(\"Selamat pagi, anda harus membayar tagihan sebesar:\") \n",
    "print(total_harga)"
   ]
  },
  {
   "cell_type": "markdown",
   "metadata": {},
   "source": [
    "# Tugas Praktek\n",
    "\n",
    "Aku menunjukkan potongan kode dan hasil dari kalkulator yang telah aku buat ke Senja yang sudah berhasil menampilkan kalimat:\n",
    "\n",
    "Selamat pagi, Anda harus membayar tagihan sebesar:\n",
    "\n",
    "Kulihat kedua alis Senja bertaut, ini pertanda kodeku pasti ada yang keliru.\n",
    "“Kalau kamu hanya memasukkan perintah ‘selamat pagi’ seakan kalau tagihan ini dikirim hanya saat pagi, padahal bisa kapan saja sesuai kebutuhan,” komentar Senja. Begini, jam pengiriman email kantor kita mulai dari 6 pagi sampai 9 malam.\n",
    "\n",
    " \n",
    "Tugas:\n",
    "\n",
    "Tolong masukkan variabel keterangan waktu tersebut di kodemu. Lalu, diatur dengan detail berikut:\n",
    "\n",
    "    1. Diatas jam 07 malam adalah salam 'selamat malam'\n",
    "    2. Diatas jam 05 sore adalah salam 'selamat sore'\n",
    "    3. Diatas jam 12 siang, adalah 'selamat siang'\n",
    "    4. dan selain itu 'selamat pagi'\n"
   ]
  },
  {
   "cell_type": "code",
   "execution_count": 23,
   "metadata": {},
   "outputs": [
    {
     "name": "stdout",
     "output_type": "stream",
     "text": [
      "Tagihan kepada:\n",
      "Mr. Yoyo\n",
      "Selamat siang, anda harus membayar tagihan sebesar:\n",
      "85000000\n"
     ]
    }
   ],
   "source": [
    "jam = 17\n",
    "tagihan_ke = 'Mr. Yoyo'\n",
    "warehousing = { 'harga_harian': 1000000, 'total_hari':15 } \n",
    "cleansing = { 'harga_harian': 1500000, 'total_hari':10 } \n",
    "integration = { 'harga_harian':2000000, 'total_hari':15 } \n",
    "transform = { 'harga_harian':2500000, 'total_hari':10 }\n",
    "sub_warehousing = warehousing['harga_harian']*warehousing['total_hari'] \n",
    "sub_cleansing = cleansing['harga_harian']*cleansing['total_hari'] \n",
    "sub_integration = integration['harga_harian']*integration['total_hari'] \n",
    "sub_transform = transform['harga_harian']*transform['total_hari']\n",
    "total_harga = sub_warehousing+sub_cleansing+sub_integration+sub_transform\n",
    "print(\"Tagihan kepada:\")\n",
    "print(tagihan_ke)\n",
    "if jam > 19 :\n",
    "    print(\"Selamat malam, anda harus membayar tagihan sebesar:\")\n",
    "elif jam > 17 :\n",
    "    print(\"Selamat sore, anda harus membayar tagihan sebesar:\") \n",
    "elif jam > 12:\n",
    "    print(\"Selamat siang, anda harus membayar tagihan sebesar:\")\n",
    "else:\n",
    "    print(\"Selamat pagi, anda harus membayar tagihan sebesar:\") \n",
    "print(total_harga)"
   ]
  },
  {
   "cell_type": "markdown",
   "metadata": {},
   "source": [
    "# Python Primitive Loop Control\n",
    "\n",
    "Loop Control merupakan salah satu fitur yang mengizinkan penggunanya untuk melakukan serangkaian aksi, selama suatu kondisi yang telah ditetapkan bernilai benar. Dalam Python, terdapat dua bentuk primitif dari loop kontrol (struktur pengulangan), yaitu\n",
    "\n",
    "    while loops\n",
    "    for loops\n"
   ]
  },
  {
   "cell_type": "markdown",
   "metadata": {},
   "source": [
    "# Python while loops – Part 1"
   ]
  },
  {
   "cell_type": "code",
   "execution_count": 24,
   "metadata": {},
   "outputs": [
    {
     "name": "stdout",
     "output_type": "stream",
     "text": [
      "750000\n",
      "750000\n"
     ]
    }
   ],
   "source": [
    "# Tagihan\n",
    "tagihan = [50000, 75000, 125000, 300000, 200000]\n",
    "# Tanpa menggunakan while loop\n",
    "total_tagihan = tagihan[0] + tagihan[1] + tagihan[2] + tagihan[3] + tagihan[4]\n",
    "print(total_tagihan)"
   ]
  },
  {
   "cell_type": "markdown",
   "metadata": {},
   "source": [
    "Setelah aku konfirmasi potongan kode yang aku buat ke Senja, aku belajar bahwa potongan kode ini tidak efektif apabila ukuran dari list tagihan bertambah. Tentunya aku akan kewalahan untuk menuliskan ekspresi penambahan pada setiap elemennya, terutama jika elemennya berjumlah banyak. Untuk mengatasi hal ini Senja memberikan masukan untuk menggunakan struktur kontrol while. "
   ]
  },
  {
   "cell_type": "code",
   "execution_count": null,
   "metadata": {},
   "outputs": [],
   "source": [
    "# Dengan menggunakan while loop\n",
    "i = 0 # sebuah variabel untuk mengakses setiap elemen tagihan satu per satu\n",
    "jumlah_tagihan = len(tagihan) # panjang (jumlah elemen dalam) list tagihan\n",
    "total_tagihan = 0 # mula-mula, set total_tagihan ke 0\n",
    "while i < jumlah_tagihan: # selama nilai i kurang dari jumlah_tagihan\n",
    "    total_tagihan += tagihan[i]# tambahkan tagihan[i] ke total_tagihan\n",
    "    i += 1 # tambahkan nilai i dengan 1 untuk memproses tagihan selanjutnya.\n",
    "print(total_tagihan)"
   ]
  },
  {
   "cell_type": "markdown",
   "metadata": {},
   "source": [
    "Dari di atas, aku belajar bahwa statement while akan terus menjalankan aksi di dalamnya, selama kondisi yang dituliskan di samping kanan statemen while terus terpenuhi. Melalui penambahan nilai i sebagai salah satu aksi dalam statemen while, saat nilai i = 4, kondisi dari statemen while tidak akan terpenuhi dan eksekusi program akan dilanjutkan keperintah print(total_tagihan)."
   ]
  },
  {
   "cell_type": "markdown",
   "metadata": {},
   "source": [
    "# Python while loops – Part 2\n",
    "\n",
    "Dalam sebuah struktur kontrol pengulangan, aku dapat menggunakan perintah break untuk keluar dari struktur pengulangan dan perintah continue untuk melanjutkan proses pengulangan berikutnya. \n",
    "\n",
    " \n",
    "Tugas:\n",
    "\n",
    "Praktekkan potongan kode berikut pada live code editor.\n",
    "Output yang akan dihasilkan adalah "
   ]
  },
  {
   "cell_type": "code",
   "execution_count": 25,
   "metadata": {},
   "outputs": [
    {
     "name": "stdout",
     "output_type": "stream",
     "text": [
      "terdapat angka minus dalam tagihan, perhitungan dihentikan!\n",
      "-1\n"
     ]
    }
   ],
   "source": [
    "tagihan = [50000, 75000, -150000, 125000, 300000, -50000, 200000]\n",
    "i = 0\n",
    "jumlah_tagihan = len(tagihan)\n",
    "total_tagihan = 0\n",
    "while i < jumlah_tagihan :\n",
    "    # jika terdapat tagihan ke-i yang bernilai minus (di bawah nol),\n",
    "    # pengulangan akan dihentikan\n",
    "    if tagihan[i] < 0:\n",
    "        total_tagihan = -1\n",
    "        print(\"terdapat angka minus dalam tagihan, perhitungan dihentikan!\")\n",
    "        break\n",
    "    total_tagihan += tagihan[i]\n",
    "    i += 1\n",
    "print(total_tagihan)"
   ]
  },
  {
   "cell_type": "markdown",
   "metadata": {},
   "source": [
    "# Python while loops – Part 3"
   ]
  },
  {
   "cell_type": "code",
   "execution_count": 26,
   "metadata": {},
   "outputs": [
    {
     "name": "stdout",
     "output_type": "stream",
     "text": [
      "750000\n"
     ]
    }
   ],
   "source": [
    "tagihan = [50000, 75000, -150000, 125000, 300000, -50000, 200000]\n",
    "i = 0\n",
    "jumlah_tagihan = len(tagihan)\n",
    "total_tagihan = 0\n",
    "while i < jumlah_tagihan:\n",
    "    # jika terdapat tagihan ke-i yang bernilai minus (di bawah nol),\n",
    "    # abaikan tagihan ke-i dan lanjutkan ke tagihan berikutnya\n",
    "    if tagihan[i] < 0:\n",
    "        i += 1\n",
    "        continue\n",
    "    total_tagihan += tagihan[i]\n",
    "    i += 1\n",
    "print(total_tagihan)"
   ]
  },
  {
   "cell_type": "markdown",
   "metadata": {},
   "source": [
    "# Python for loops – Part 1"
   ]
  },
  {
   "cell_type": "code",
   "execution_count": 27,
   "metadata": {},
   "outputs": [
    {
     "name": "stdout",
     "output_type": "stream",
     "text": [
      "550000\n"
     ]
    }
   ],
   "source": [
    "list_tagihan = [50000, 75000, -150000, 125000, 300000, -50000, 200000]\n",
    "total_tagihan = 0\n",
    "for tagihan in list_tagihan : # untuk setiap tagihan dalam list_tagihan\n",
    "    total_tagihan += tagihan # tambahkan tagihan ke total_tagihan\n",
    "print(total_tagihan)"
   ]
  },
  {
   "cell_type": "markdown",
   "metadata": {},
   "source": [
    "# Python for loops – Part 2\n",
    "\n",
    "Serupa dengan struktur pengulangan while, aku juga dapat memanfaatkan statement break dan continue di dalamnya"
   ]
  },
  {
   "cell_type": "code",
   "execution_count": 28,
   "metadata": {},
   "outputs": [
    {
     "name": "stdout",
     "output_type": "stream",
     "text": [
      "terdapat angka minus dalam tagihan, perhitungan dihentikan!\n",
      "125000\n"
     ]
    }
   ],
   "source": [
    "list_tagihan = [50000, 75000, -150000, 125000, 300000, -50000, 200000]\n",
    "total_tagihan = 0\n",
    "for tagihan in list_tagihan:\n",
    "    if tagihan < 0:\n",
    "        print(\"terdapat angka minus dalam tagihan, perhitungan dihentikan!\")\n",
    "        break\n",
    "    total_tagihan += tagihan\n",
    "print(total_tagihan)"
   ]
  },
  {
   "cell_type": "markdown",
   "metadata": {},
   "source": [
    "# Python for loops – Part 3\n",
    "\n",
    "Ternyata, aku belajar bahwa ada istilah nested loops, yaitu pengulangan bersarang. Dengan nested loops, aku dapat mengkombinasikan (menambahkan) struktur pengulangan lain di dalamnya."
   ]
  },
  {
   "cell_type": "code",
   "execution_count": 29,
   "metadata": {},
   "outputs": [
    {
     "name": "stdout",
     "output_type": "stream",
     "text": [
      "Apel Malang\n",
      "Duku Malang\n",
      "Jeruk Malang\n",
      "Apel Palembang\n",
      "Duku Palembang\n",
      "Jeruk Palembang\n",
      "Apel Medan\n",
      "Duku Medan\n",
      "Jeruk Medan\n"
     ]
    }
   ],
   "source": [
    "list_daerah = ['Malang', 'Palembang', 'Medan']\n",
    "list_buah = ['Apel', 'Duku', 'Jeruk']\n",
    "for nama_daerah in list_daerah:\n",
    "    for nama_buah in list_buah:\n",
    "        print(nama_buah+\" \"+nama_daerah)"
   ]
  },
  {
   "cell_type": "markdown",
   "metadata": {},
   "source": [
    "# Tugas Praktek\n",
    "\n",
    "Aku di informasikan Senja bahwa manajemen cukup puas dengan hasil kalkulator potongan harga dan pajak yang aku kembangkan dan aku diberikan kepercayaan lebih untuk membuat program baru.\n",
    "\n",
    "Dalam program kali ini, aku diminta untuk menghitung total pengeluaran dan pemasukan perusahaan.\n",
    "\n",
    "Senja pun mengingatkan akan ada penghitungan cash flow.\n",
    "\n",
    "Melihat Senja dan tim manajemen memberikan kepercayaan yang besar kepadaku, akupun bersemangat!\n",
    "\n",
    "Tugas:\n",
    "\n",
    "Program yang akan aku bangun akan mengolah sebuah list yang bernama list_cash_flow. Setiap elemen dari list_cash_flow berisikan pengeluaran (bilangan negatif) dan pemasukan (bilangan positif) pada perusahaan\n",
    "\n",
    "Dari list_cash_flow ini, aku akan menghitung total_pengeluaran dan total_pemasukan perusahaan."
   ]
  },
  {
   "cell_type": "code",
   "execution_count": 30,
   "metadata": {},
   "outputs": [
    {
     "name": "stdout",
     "output_type": "stream",
     "text": [
      "12500000\n",
      "65000000\n"
     ]
    }
   ],
   "source": [
    "list_cash_flow = [\n",
    "2500000, 5000000, -1000000, -2500000, 5000000, 10000000,\n",
    "-5000000, 7500000, 10000000, -1500000, 25000000, -2500000\n",
    "]\n",
    "total_pengeluaran, total_pemasukan = 0, 0\n",
    "for dana in list_cash_flow:\n",
    "    if dana > 0:\n",
    "        total_pemasukan += dana\n",
    "    else:\n",
    "        total_pengeluaran += dana\n",
    "total_pengeluaran *= -1\n",
    "print(total_pengeluaran) \n",
    "print(total_pemasukan)"
   ]
  },
  {
   "cell_type": "markdown",
   "metadata": {},
   "source": [
    "# Ekspedisi Pamanku\n",
    "\n",
    "Aku menyambar ponsel di meja dan membuka pesan singkat dari paman tempo hari yang menjelaskan jika paman harus mengeluarkan uang sebesar 1,5 juta per mobil dalam sehari. Tapi, beliau selalu kebingungan total pengeluaran per bulan karena adanya aturan ganjil-genap yang membuat pengoperasian mobil yang berbeda.\n",
    "\n",
    "“Kalau begitu, aku akan masukkan variabel jumlah_hari berisi jumlah hari dalam sebulan dan variabel list_plat_nomor berisi seluruh nomor plat mobil milik paman,” gumamku sendiri. Kalau seperti ini paman hanya perlu mengganti variabel jumlah_hari atau modifikasi variabel list_plat_nomor untuk melacak total pengeluaran paman selama sebulan. Ide Cemerlang!\n",
    "\n",
    " "
   ]
  },
  {
   "cell_type": "code",
   "execution_count": 31,
   "metadata": {},
   "outputs": [
    {
     "name": "stdout",
     "output_type": "stream",
     "text": [
      "163500000\n"
     ]
    }
   ],
   "source": [
    "# Data\n",
    "uang_jalan = 1500000\n",
    "jumlah_hari = 31\n",
    "list_plat_nomor = [8993, 2198, 2501, 2735, 3772, 4837, 9152]\n",
    "# Pengecekan kendaraan dengan nomor pelat ganjil atau genap \n",
    "# Deklarasikan kendaraan_genap dan kendaraan_ganjil = 0\n",
    "kendaraan_genap = 0\n",
    "kendaraan_ganjil = 0\n",
    "for plat_nomor in list_plat_nomor:\n",
    "    if plat_nomor % 2 == 0:\n",
    "        kendaraan_genap+=1\n",
    "    else:\n",
    "        kendaraan_ganjil+=1\n",
    "\n",
    "# Total pengeluaran untuk kendaraan dengan nomor pelat ganjil \n",
    "# dan genap dalam 1 bulan\n",
    "i = 1\n",
    "total_pengeluaran = 0\n",
    "while i <= jumlah_hari:\n",
    "    if i % 2 == 0:\n",
    "        total_pengeluaran += (kendaraan_genap * uang_jalan)\n",
    "    else:\n",
    "        total_pengeluaran += (kendaraan_ganjil * uang_jalan)\n",
    "    i += 1\n",
    "# Cetak total pengeluaran\n",
    "print(total_pengeluaran)"
   ]
  }
 ],
 "metadata": {
  "kernelspec": {
   "display_name": "Python 3",
   "language": "python",
   "name": "python3"
  },
  "language_info": {
   "codemirror_mode": {
    "name": "ipython",
    "version": 3
   },
   "file_extension": ".py",
   "mimetype": "text/x-python",
   "name": "python",
   "nbconvert_exporter": "python",
   "pygments_lexer": "ipython3",
   "version": "3.8.5"
  }
 },
 "nbformat": 4,
 "nbformat_minor": 4
}
