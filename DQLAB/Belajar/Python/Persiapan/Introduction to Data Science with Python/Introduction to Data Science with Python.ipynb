{
 "cells": [
  {
   "cell_type": "markdown",
   "metadata": {},
   "source": [
    "# [Python “Hello World” & Statement](https://academy.dqlab.id/main/livecode/162/306/1398)"
   ]
  },
  {
   "cell_type": "code",
   "execution_count": 1,
   "metadata": {},
   "outputs": [
    {
     "name": "stdout",
     "output_type": "stream",
     "text": [
      "Hello World.\nSaya Aksara, baru belajar Python.\n"
     ]
    }
   ],
   "source": [
    "print(\"Hello World.\")\n",
    "print(\"Saya Aksara, baru belajar Python.\")"
   ]
  },
  {
   "cell_type": "markdown",
   "metadata": {},
   "source": [
    "# [Variables di Python](https://academy.dqlab.id/main/livecode/162/306/1399)"
   ]
  },
  {
   "cell_type": "code",
   "execution_count": 3,
   "metadata": {},
   "outputs": [],
   "source": [
    "bil1 = 10\n",
    "Bil_2 = 20\n",
    "Frasa = \"Halo Dunia\"\n",
    "bil1, Bil_2 = 10, 20\n",
    "salam = \"Selamat Pagi\"; Penutup = \"Salam Sejahtera\""
   ]
  },
  {
   "cell_type": "markdown",
   "metadata": {},
   "source": [
    "# [Comments di Python](https://academy.dqlab.id/main/livecode/162/306/1401)"
   ]
  },
  {
   "cell_type": "code",
   "execution_count": 4,
   "metadata": {},
   "outputs": [
    {
     "name": "stdout",
     "output_type": "stream",
     "text": [
      "jadi # digunakan untuk membuat comment pada Python\n"
     ]
    }
   ],
   "source": [
    "#perintah pada baris ini tidak mempengaruhi program\n",
    "'''\n",
    "perintah ini tidak akan dieksekusi oleh Python\n",
    "dan perintah ini juga tidak akan dieksekusi\n",
    "perintah ini juga tidak akan dieksekusi\n",
    "'''\n",
    "print(\"jadi # digunakan untuk membuat comment pada Python\")"
   ]
  },
  {
   "cell_type": "markdown",
   "metadata": {},
   "source": [
    "# [Tugas Praktek](https://academy.dqlab.id/main/livecode/162/307/1406)"
   ]
  },
  {
   "cell_type": "code",
   "execution_count": 5,
   "metadata": {},
   "outputs": [
    {
     "name": "stdout",
     "output_type": "stream",
     "text": [
      "['B', 'e', 'l', 'a', 'j', 'a', 'r', ' ', 'P', 'y', 't', 'h', 'o', 'n', ' ', 'd', 'i', ' ', 'D', 'Q', 'L', 'a', 'b', '.']\n('B', 'e', 'l', 'a', 'j', 'a', 'r', ' ', 'P', 'y', 't', 'h', 'o', 'n', ' ', 'd', 'i', ' ', 'D', 'Q', 'L', 'a', 'b', '.')\n{'h', 'a', 'l', 'e', 'r', 'P', 'y', 'j', 'n', 'L', 't', 'd', '.', 'o', 'Q', 'B', ' ', 'D', 'i', 'b'}\n"
     ]
    }
   ],
   "source": [
    "text = \"Belajar Python di DQLab.\"\n",
    "print(list(text))\n",
    "print(tuple(text))\n",
    "print(set(text))"
   ]
  },
  {
   "cell_type": "markdown",
   "metadata": {},
   "source": [
    "# [Menggunakan Library di Python](https://academy.dqlab.id/main/livecode/162/307/1408)"
   ]
  },
  {
   "cell_type": "code",
   "execution_count": 6,
   "metadata": {},
   "outputs": [],
   "source": [
    "import math\n",
    "import numpy as np\n",
    "import pandas as pd\n",
    "import seaborn as sns"
   ]
  }
 ],
 "metadata": {
  "kernelspec": {
   "display_name": "Python 3",
   "language": "python",
   "name": "python3"
  },
  "language_info": {
   "codemirror_mode": {
    "name": "ipython",
    "version": 3
   },
   "file_extension": ".py",
   "mimetype": "text/x-python",
   "name": "python",
   "nbconvert_exporter": "python",
   "pygments_lexer": "ipython3",
   "version": "3.7.9-final"
  }
 },
 "nbformat": 4,
 "nbformat_minor": 2
}
