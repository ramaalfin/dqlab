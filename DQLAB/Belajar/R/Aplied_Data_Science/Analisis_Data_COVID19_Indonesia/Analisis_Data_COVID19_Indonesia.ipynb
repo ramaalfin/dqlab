{
 "cells": [
  {
   "cell_type": "markdown",
   "metadata": {},
   "source": [
    "# Latar Belakang Project\n",
    "\n",
    "COVID-19 merupakan penyakit yang saat ini telah menjadi pandemi secara global. Kondisi menjadi semakin mengkhawatirkan karena hingga detik ini masih belum ditemukan vaksin yang efektif untuk virus penyebab COVID-19. Pemerintah di berbagai negara umumnya dengan sigap membentuk gugus tugas (task force unit) untuk menangani penyebaran COVID-19 di masyarakat, termasuk pemerintah di Indonesia.\n",
    "\n",
    "Salah satu bentuk aksi yang dilakukan oleh pemerintah adalah dengan mengumpulkan dan menyediakan data pertumbuhan kasus COVID-19 kepada publik. Data pertumbuhan kasus tersebut tidak jarang juga dilengkapi dengan dasbor dan grafik visualisasi pendukung dengan harapan masyarakat dapat memahami informasi dengan lebih mudah. Sebagai contoh adalah portal covid19.go.id besutan Gugus Tugas Penanganan COVID-19 Nasional dan portal PIKOBAR milik pemerintah Provinsi Jawa Barat. Serta banyak portal data COVID-19 lainnya yang disediakan oleh masing-masing pemerintah daerah."
   ]
  },
  {
   "cell_type": "markdown",
   "metadata": {},
   "source": [
    "# Bermain API\n",
    "\n",
    "Seperti telah disinggung sebelumnya, dalam proyek ini Anda akan menggunakan data yang disediakan di portal covid19.go.id. Adapun cara untuk mengambil data dari portal tersebut secara langsung adalah dengan menggunakan Application Programming Interface (API). Secara sederhana API dapat dipahami sebagai cara komputer untuk berkomunikasi dengan komputer lainnya sehingga dapat terjadi transaksi pertukaran data."
   ]
  },
  {
   "cell_type": "markdown",
   "metadata": {},
   "source": [
    "# Mengakses API covid.go.id\n",
    "\n",
    "Rekapitulasi data COVID-19 Indonesia tersedia dalam API publik yang beralamat di https://data.covid19.go.id/public/api/update.json.\n",
    "\n",
    "Salah satu cara untuk mengakses API adalah dengan menggunakan fungsi GET() dari paket httr.\n",
    "\n",
    "Sekarang aktifkanlah paket httr dan jalankan fungsi GET() pada alamat API yang telah disebutkan! Simpan hasil fungsi tersebut dalam obyek bernama resp."
   ]
  },
  {
   "cell_type": "code",
   "execution_count": 3,
   "metadata": {},
   "outputs": [
    {
     "ename": "NameError",
     "evalue": "name 'library' is not defined",
     "output_type": "error",
     "traceback": [
      "\u001b[1;31m---------------------------------------------------------------------------\u001b[0m",
      "\u001b[1;31mNameError\u001b[0m                                 Traceback (most recent call last)",
      "\u001b[1;32m<ipython-input-3-ffe68edb4fa1>\u001b[0m in \u001b[0;36m<module>\u001b[1;34m\u001b[0m\n\u001b[1;32m----> 1\u001b[1;33m \u001b[0mlibrary\u001b[0m\u001b[1;33m(\u001b[0m\u001b[0mhttr\u001b[0m\u001b[1;33m)\u001b[0m\u001b[1;33m\u001b[0m\u001b[1;33m\u001b[0m\u001b[0m\n\u001b[0m\u001b[0;32m      2\u001b[0m \u001b[1;33m\u001b[0m\u001b[0m\n\u001b[0;32m      3\u001b[0m \u001b[0mresp\u001b[0m \u001b[1;33m<\u001b[0m\u001b[1;33m-\u001b[0m \u001b[0mGET\u001b[0m \u001b[1;33m(\u001b[0m\u001b[1;34m\"https://data.covid19.go.id/public/api/update.json\"\u001b[0m\u001b[1;33m)\u001b[0m\u001b[1;33m\u001b[0m\u001b[1;33m\u001b[0m\u001b[0m\n",
      "\u001b[1;31mNameError\u001b[0m: name 'library' is not defined"
     ]
    }
   ],
   "source": [
    "library(httr)\n",
    "\n",
    "resp <- GET (\"https://data.covid19.go.id/public/api/update.json\")"
   ]
  },
  {
   "cell_type": "markdown",
   "metadata": {},
   "source": [
    "# Mengevaluasi Respon\n",
    "\n",
    "Saat Anda menjalankan fungsi GET(), pada dasarnya hal yang terjadi adalah Anda membuat sebuah permintaan kepada server penyedia API. Permintaan Anda tersebut selanjutnya diproses dan dijawab oleh server sebagai sebuah respon. Objek resp yang telah Anda buat memiliki informasi respon oleh server.\n",
    "\n",
    "Ada tiga informasi utama dalam sebuah respon API, yaitu status, headers, dan body. Status memiliki informasi apakah permintaan Anda berhasil atau tidak dan dinyatakan dalam status code, headers umumnya mengandung informasi metadata, sedangkan body berisikan konten atas permintaan yang telah dibuat."
   ]
  },
  {
   "cell_type": "markdown",
   "metadata": {},
   "source": [
    "# Status Code\n",
    "\n",
    "Ada beberapa jenis status code yang umumnya dijumpai, antara lain:\n",
    "\n",
    "        1. 200 Artinya permintaan sukses dipenuhi.\n",
    "        2. 404 Artinya berkas yang diminta tidak dapat ditemukan.\n",
    "        3. 403 Artinya akses permintaan ditolak.\n",
    "        4. 500 Artinya terjadi kesalahan pada server.\n",
    "\n",
    "Informasi lengkap mengenai jenis-jenis status code dapat diakses melalui :\n",
    "\n",
    "https://restfulapi.net/http-status-codes/\n",
    "\n",
    "Anda dapat menggunakan fungsi status_code() untuk mengetahui status atas permintaan Anda melalui API. Sekarang coba lihatlah status atas permintaan yang telah Anda buat! Apakah permintaan Anda berhasil?"
   ]
  },
  {
   "cell_type": "code",
   "execution_count": null,
   "metadata": {},
   "outputs": [],
   "source": [
    "library(httr)\n",
    "\n",
    "resp <- GET(\"https://data.covid19.go.id/public/api/update.json\")\n",
    "status_code (resp)"
   ]
  },
  {
   "cell_type": "markdown",
   "metadata": {},
   "source": [
    "# Status Code - 2\n",
    "\n",
    "Selain menggunakan fungsi status_code(), Anda juga dapat mengetahui status permintaan dengan cara mengakses elemen dari resp. Status code tersebut tersedia dengan nama status_code dan dapat diakses dengan menggunakan operator $ pada obyek resp. Cobalah kembali akses status code dengan cara tersebut dan bandingkan hasilnya dengan cara pertama!"
   ]
  },
  {
   "cell_type": "code",
   "execution_count": null,
   "metadata": {},
   "outputs": [],
   "source": [
    "library(httr)\n",
    "\n",
    "resp <- GET(\"https://data.covid19.go.id/public/api/update.json\")\n",
    "resp$status_code\n",
    "identical(resp$status_code, status_code(resp))"
   ]
  },
  {
   "cell_type": "markdown",
   "metadata": {},
   "source": [
    "# Headers API\n",
    "\n",
    "Selamat status permintaan Anda melalui API sukses dipenuhi! Sekarang cobalah Anda jalankan fungsi headers() pada resp untuk mengetahui metadata apa saja yang tersimpan. Apakah isi dari elemen content-type? Kapan terakhir kali informasi diperbaharui?"
   ]
  },
  {
   "cell_type": "code",
   "execution_count": null,
   "metadata": {},
   "outputs": [],
   "source": [
    "library(httr)\n",
    "\n",
    "resp <- GET(\"https://data.covid19.go.id/public/api/update.json\")\n",
    "headers(resp)"
   ]
  },
  {
   "cell_type": "markdown",
   "metadata": {},
   "source": [
    "# Mengekstrak isi Respon\n",
    "\n",
    "Respon API dengan status code 200 menyatakan bahwa permintaan Anda berhasil dipenuhi dan konten yang diminta tersedia untuk diekstrak. Selain itu Anda juga telah mengetahui lewat fungsi headers() bahwa konten yang diminta tersedia dalam bentuk application/json, yaitu berkas JSON.\n",
    "\n",
    "Selanjutnya Anda dapat mengekstrak konten tersebut dengan menggunakan fungsi content(). Fungsi content() tersebut secara cerdas akan menyesuaikan output sesuai dengan jenis berkas yang tersedia, dalam hal ini adalah berkas JSON. Jalankan fungsi tersebut pada obyek resp dan tambahkan argumen as = \"parsed\" dan simplifyVector = TRUE. Simpanlah hasilnya sebagai cov_id_raw!"
   ]
  },
  {
   "cell_type": "code",
   "execution_count": null,
   "metadata": {},
   "outputs": [],
   "source": [
    "library(httr)\n",
    "resp <- GET(\"https://data.covid19.go.id/public/api/update.json\")\n",
    "cov_id_raw <- content(resp, as = \"parsed\", simplifyVector = TRUE)"
   ]
  },
  {
   "cell_type": "markdown",
   "metadata": {},
   "source": [
    "# Mengekstrak isi Respon - Pt 2\n",
    "\n",
    "Dengan menggunakan fungsi length() dan names() cobalah amati ada berapa komponen serta apa saja nama komponen dalam obyek cov_id_raw tersebut! Kemudian ekstraklah komponen ke-2 dan simpan dengan nama cov_id_update."
   ]
  },
  {
   "cell_type": "code",
   "execution_count": null,
   "metadata": {},
   "outputs": [],
   "source": [
    "length(cov_id_raw)\n",
    "\n",
    "names(cov_id_raw)\n",
    "\n",
    "cov_id_update <- cov_id_raw$update"
   ]
  },
  {
   "cell_type": "markdown",
   "metadata": {},
   "source": [
    "# Analisa Data\n",
    "\n",
    "Sekarang Anda diminta untuk fokus pada obyek cov_id_update untuk menjawab pertanyaan-pertanyaan berikut:\n",
    "\n",
    "    Kapan tanggal pembaharuan data penambahan kasus?\n",
    "    Berapa jumlah penambahan kasus sembuh?\n",
    "    Berapa jumlah penambahan kasus meninggal?\n",
    "    Berapa jumlah total kasus positif hingga saat ini?\n",
    "    Berapa jumlah total kasus meninggal hingga saat ini?\n",
    "\n",
    "Notes :\n",
    "Sahabat Data DQLab dapat membagikan jawaban pada bagian ini melalui instagram dan tag ke akun @dqlab "
   ]
  },
  {
   "cell_type": "code",
   "execution_count": null,
   "metadata": {},
   "outputs": [],
   "source": [
    "lapply(cov_id_update, names)\n",
    "\n",
    "cov_id_update$penambahan$tanggal\n",
    "\n",
    "cov_id_update$penambahan$jumlah_sembuh\n",
    "\n",
    "cov_id_update$penambahan$jumlah_meninggal\n",
    "\n",
    "cov_id_update$total$jumlah_positif\n",
    "\n",
    "cov_id_update$total$jumlah_meninggal"
   ]
  },
  {
   "cell_type": "markdown",
   "metadata": {},
   "source": [
    "# Lawan COVID-19!\n",
    "\n",
    "Jumlah masyarakat yang terinfeksi dan meninggal akibat COVID-19 sudah sangat banyak! Kita harus waspada namun tetap tenang dalam menghadapi masa pandemi ini. Masih ingatkah Anda apa 3 langkah sederhana melawan COVID-19? Cuci tangan, pakai masker, dan jaga jarak."
   ]
  },
  {
   "cell_type": "markdown",
   "metadata": {},
   "source": [
    "# Apa Kabar Jawa Barat?\n",
    "\n",
    "Anda telah berhasil menjawab pertanyaan mengenai kondisi COVID-19 di Indonesia dengan menggunakan data yang langsung diambil menggunakan API. Namun bagaimana jika Anda ingin berfokus dengan data COVID-19 di provinsi tempat menetap saat ini?\n",
    "\n",
    "covid19.go.id menyediakan data kasus COVID-19 tingkat provinsi di alamat API yang berbeda. Sebagai contoh data mengenai COVID-19 Jawa Barat, tempat tinggal saya sekarang, tersedia di https://data.covid19.go.id/public/api/prov_detail_JAWA_BARAT.json dan dapat diakses menggunakan baris kode berikut:\n",
    "\n",
    "resp_jabar <- GET(\"https://data.covid19.go.id/public/api/prov_detail_JAWA_BARAT.json\")\n",
    "cov_jabar_raw <- content(resp_jabar, as = \"parsed\", simplifyVector = TRUE)\n",
    "\n",
    "Sekarang jalankanlah fungsi names() pada cov_jabar_raw tersebut untuk mengetahui nama-nama elemen utama yang tersedia dan jawablah pertanyaan berikut:\n",
    "\n",
    "    Berapa jumlah total kasus COVID-19 di Jawa Barat?\n",
    "    Berapa persentase kematian akibat COVID-19 di Jawa Barat?\n",
    "    Berapa persentase tingkat kesembuhan dari COVID-19 di Jawa Barat?\n"
   ]
  },
  {
   "cell_type": "code",
   "execution_count": null,
   "metadata": {},
   "outputs": [],
   "source": [
    "library(httr)\n",
    "\n",
    "resp_jabar <- GET(\"https://data.covid19.go.id/public/api/prov_detail_JAWA_BARAT.json\")\n",
    "cov_jabar_raw <- content(resp_jabar, as = \"parsed\", simplifyVector = TRUE)\n",
    "\n",
    "names(cov_jabar_raw)\n",
    "\n",
    "cov_jabar_raw$kasus_total\n",
    "\n",
    "cov_jabar_raw$meninggal_persen\n",
    "\n",
    "cov_jabar_raw$sembuh_persen"
   ]
  },
  {
   "cell_type": "markdown",
   "metadata": {},
   "source": [
    "# Memperoleh Informasi yang Lebih Lengkap\n",
    "\n",
    "Informasi umum mengenai COVID-19 di Jawa Barat telah Anda dapatkan. Namun informasi akan lebih lengkap jika Anda memiliki data perkembangan COVID-19 dari waktu ke waktu, apakah Anda setuju?\n",
    "\n",
    "Kabar baiknya adalah informasi tersebut juga disediakan oleh covid19.go.id melalui permintaan API yang telah Anda buat sebelumnya. Data historis perkembangan COVID-19 tersebut tersimpan dengan nama list_perkembangan. Silakan Anda ekstrak data tersebut dari cov_jabar_raw dan simpanlah hasilnya sebagai obyek bernama cov_jabar! Amati struktur cov_jabar menggunakan fungsi str() dan head()."
   ]
  },
  {
   "cell_type": "code",
   "execution_count": null,
   "metadata": {},
   "outputs": [],
   "source": [
    "cov_jabar <- cov_jabar_raw$list_perkembangan\n",
    "str(cov_jabar)\n",
    "\n",
    "head(cov_jabar)"
   ]
  },
  {
   "cell_type": "markdown",
   "metadata": {},
   "source": [
    "# Menjinakkan Data\n",
    "\n",
    "Setelah mengekstrak dan mengamati cov_jabar, Anda menemukan beberapa kejanggalan pada data tersebut. Diantaranya adalah kejanggalan data pada kolom tanggal dan format penulisan kolom yang tidak konsisten. Sekarang Anda akan mencoba melakukan beberapa tahapan untuk menjinakan data tersebut sehingga dapat diolah dan dianalisis dengan lebih mudah.\n",
    "\n",
    "Sebelum itu, silakan Anda aktifkan paket dplyr yang akan dipergunakan untuk melakukan pengolahan data.\n",
    "\n",
    "Ada beberapa tahapan yang akan Anda lakukan untuk menjinakan data cov_jabar, yaitu:\n",
    "\n",
    "    Menghapus kolom “DIRAWAT_OR_ISOLASI” dan “AKUMULASI_DIRAWAT_OR_ISOLASI”\n",
    "    Menghapus semua kolom yang berisi nilai kumulatif\n",
    "    Mengganti nama kolom “KASUS” menjadi “kasus_baru”\n",
    "    Merubah format penulisan kolom berikut menjadi huruf kecil\n",
    "        kolom MENINGGAL\n",
    "        kolom SEMBUH\n",
    "    Memperbaiki data pada kolom tanggal\n",
    "\n",
    "Lengkapilah baris kode berikut untuk melakukan menjinakan data sesuai dengan tahapan yang telah Anda rencanakan! Anda akan menggunakan operator pipe (%>%) untuk merangkai fungsi menjadi sebuah pipeline. Simpan hasil pengolahan Anda dengan nama new_cov_jabar."
   ]
  },
  {
   "cell_type": "code",
   "execution_count": null,
   "metadata": {},
   "outputs": [],
   "source": [
    "library(dplyr)\n",
    "\n",
    "new_cov_jabar <-\n",
    "  cov_jabar %>% \n",
    "  select(-contains(\"DIRAWAT_OR_ISOLASI\")) %>% \n",
    "  select(-starts_with(\"AKUMULASI\")) %>% \n",
    "  rename(\n",
    "    kasus_baru = KASUS,\n",
    "    meninggal = MENINGGAL,\n",
    "    sembuh = SEMBUH\n",
    "    ) %>% \n",
    "  mutate(\n",
    "    tanggal = as.POSIXct(tanggal / 1000, origin = \"1970-01-01\"),\n",
    "    tanggal = as.Date(tanggal))\n",
    "\n",
    "str(new_cov_jabar)  "
   ]
  },
  {
   "cell_type": "markdown",
   "metadata": {},
   "source": [
    "# Menunjukkan Melalui Gambar\n",
    "\n",
    "Akhirnya Anda berhasil menjinakan data cov_jabar sehingga lebih mudah untuk diolah, selamat! Memiliki data yang rapi memang menyenangkan, apakah Anda setuju dengan hal tersebut?\n",
    "\n",
    "Setelah memiliki data yang jinak, sekarang saatnya Anda mengekspresikan data tersebut dalam bentuk lain yang harapannya lebih mudah dicerna: grafik. Anda akan memulai merancang visualisasi yang memiliki estetika dengan menggunakan paket ggplot2 dan paket hrbrthemes. Aktifkanlah kedua paket tersebut!\n",
    "\n",
    "Berikut merupakan templat kode untuk membuat visualisasi menggunakan ggplot2:\n",
    "\n",
    "ggplot(data = ..., aes(x = ..., y = ...)) +\n",
    "  geom_xxx()\n",
    "\n",
    "Berdasarkan templat tersebut, komponen utama untuk membuat visualisasi antara lain adalah tabel data, kolom data, serta bentuk geometri untuk mempresentasikan data. Sebagai contoh untuk membuat scatter-plot yang diperlukan adalah bentuk geometri titik (geom_col()), line-chart memerlukan geometri garis (geom_line()), sedangkan bar-chart memerlukan bentuk geometri batang atau kolom (geom_bar() atau geom_col()).\n",
    "\n",
    "Lengkapi baris kode berikut untuk membuat bar-chart jumlah kasus baru harian COVID-19 di Jawa Barat menggunakan data new_cov_jabar! Pergunakan kolom “tanggal” sebagai sumbu-x."
   ]
  },
  {
   "cell_type": "code",
   "execution_count": null,
   "metadata": {},
   "outputs": [],
   "source": [
    "library(ggplot2)\n",
    "library(hrbrthemes)\n",
    "\n",
    "ggplot(new_cov_jabar, aes(x = tanggal, y = kasus_baru)) +\n",
    "  geom_col()"
   ]
  },
  {
   "cell_type": "markdown",
   "metadata": {},
   "source": [
    "# Menunjukkan Melalui Gambar - Pt 2\n",
    "\n",
    "Anda telah berhasil membuat bar-chart yang diminta. Namun grafik tersebut belum memiliki informasi yang jelas serta cenderung membosankan untuk dilihat. Sekarang silakan buat kembali grafik tersebut dengan menggunakan baris kode yang telah dimodifikasi berikut:"
   ]
  },
  {
   "cell_type": "code",
   "execution_count": null,
   "metadata": {},
   "outputs": [],
   "source": [
    "library(ggplot2)\n",
    "library(hrbrthemes)\n",
    "\n",
    "ggplot(new_cov_jabar, aes(tanggal, kasus_baru)) +\n",
    "    geom_col(fill = \"salmon\") +\n",
    "    labs(\n",
    "      x = NULL,\n",
    "      y = \"Jumlah kasus\",\n",
    "      title = \"Kasus Harian Positif COVID-19 di Jawa Barat\",\n",
    "      subtitle = \"Terjadi pelonjakan kasus di awal bulan Juli akibat klaster Secapa AD Bandung\",\n",
    "      caption = \"Sumber data: covid.19.go.id\"\n",
    "    ) +\n",
    "    theme_ipsum(\n",
    "      base_size = 13,\n",
    "      plot_title_size = 21,\n",
    "      grid = \"Y\",\n",
    "      ticks = TRUE\n",
    "    ) +\n",
    "    theme(plot.title.position = \"plot\")"
   ]
  },
  {
   "cell_type": "markdown",
   "metadata": {},
   "source": [
    "# Grafik untuk Kasus Sembuh\n",
    "\n",
    "Sekarang buatlah grafik serupa dengan menggunakan data kasus sembuh  Pergunakan warna “olivedrab2” untuk grafik kasus sembuh!\n",
    "\n",
    "Hasil yang diharapkan adalah sebagai berikut :"
   ]
  },
  {
   "cell_type": "code",
   "execution_count": null,
   "metadata": {},
   "outputs": [],
   "source": [
    "library(ggplot2)\n",
    "library(hrbrthemes)\n",
    "\n",
    "ggplot(new_cov_jabar, aes(tanggal, sembuh)) +\n",
    "  geom_col(fill = \"olivedrab2\") +\n",
    "  labs(\n",
    "    x = NULL,\n",
    "    y = \"Jumlah kasus\",\n",
    "    title = \"Kasus Harian Sembuh Dari COVID-19 di Jawa Barat\",\n",
    "    caption = \"Sumber data: covid.19.go.id\"\n",
    "  ) +\n",
    "  theme_ipsum(\n",
    "    base_size = 13, \n",
    "    plot_title_size = 21,\n",
    "    grid = \"Y\",\n",
    "    ticks = TRUE\n",
    "  ) +\n",
    "  theme(plot.title.position = \"plot\")"
   ]
  },
  {
   "cell_type": "markdown",
   "metadata": {},
   "source": [
    "# Grafik untuk Kasus Meninggal\n",
    "\n",
    "Sekarang buatlah grafik serupa dengan menggunakan data kasus meninggal. Pergunakan warna “darkslategray4” untuk kasus meninggal!\n",
    "\n",
    "Output yang seharusnya dihasilkan adalah sebagai berikut."
   ]
  },
  {
   "cell_type": "code",
   "execution_count": null,
   "metadata": {},
   "outputs": [],
   "source": [
    "library(ggplot2)\n",
    "library(hrbrthemes)\n",
    "\n",
    "ggplot(new_cov_jabar, aes(tanggal, meninggal)) +\n",
    "  geom_col(fill = \"darkslategray4\") +\n",
    "  labs(\n",
    "    x = NULL,\n",
    "    y = \"Jumlah kasus\",\n",
    "    title = \"Kasus Harian Meninggal Akibat COVID-19 di Jawa Barat\",\n",
    "    caption = \"Sumber data: covid.19.go.id\"\n",
    "  ) +\n",
    "  theme_ipsum(\n",
    "    base_size = 13, \n",
    "    plot_title_size = 21,\n",
    "    grid = \"Y\",\n",
    "    ticks = TRUE\n",
    "  ) +\n",
    "  theme(plot.title.position = \"plot\")"
   ]
  },
  {
   "cell_type": "markdown",
   "metadata": {},
   "source": [
    "# Apakah Pekan ini Lebih Baik?\n",
    "\n",
    "Setelah mengamati grafik perkembangan kasus Anda menyadari bahwa terjadi fluktuasi pertambahan kasus harian. Dilandasi hal tersebut Anda kemudian ingin mencoba mengamati bagaimana perkembangan kasus dalam rentang waktu pekanan. Bagaimanakah caranya?\n",
    "\n",
    "Anda dapat dengan mudah bekerja dengan data tanggal apabila menggunakan paket lubridate. Adapun yang akan digunakan untuk mengekstrak informasi pekan dalam satu tahun adalah fungsi week().\n",
    "\n",
    "Lengkapilah baris kode berikut untuk menghitung pertambahan kasus pekanan dan simpanlah hasilnya sebagai cov_jabar_pekanan! Anda juga diminta untuk menggunakan fungsi glimpse() dari dplyr untuk melakukan inspeksi data."
   ]
  },
  {
   "cell_type": "code",
   "execution_count": null,
   "metadata": {},
   "outputs": [],
   "source": [
    "library(dplyr)\n",
    "library(lubridate)\n",
    "\n",
    "cov_jabar_pekanan <- new_cov_jabar %>% \n",
    "  count(\n",
    "    tahun = year(tanggal),\n",
    "    pekan_ke = week(tanggal),\n",
    "    wt = kasus_baru,\n",
    "    name = \"jumlah\"\n",
    "  )\n",
    "\n",
    "glimpse(cov_jabar_pekanan)"
   ]
  },
  {
   "cell_type": "markdown",
   "metadata": {},
   "source": [
    "# Menjawab Pertanyaan\n",
    "\n",
    "Pertanyaan baru muncul di benak Anda setelah melakukan inspeksi terhadap data cov_jabar_pekanan tersebut: “Apakah pekan ini lebih baik dari pekan kemarin?”.\n",
    "\n",
    "Demi menjawab hal tersebut Anda melakukan kalkulasi sederhana dengan tahapan berikut:\n",
    "\n",
    "    Membuat kolom baru yang berisi jumlah kasus baru dalam satu pekan sebelumnya. Kolom ini diberi nama “jumlah_pekanlalu”.\n",
    "    Mengganti nilai NA pada kolom “jumlah_pekanlalu” dengan nilai 0\n",
    "    Melakukan komparasi antara kolom “jumlah” dengan kolom “jumlah_pekanlalu”. Hasil komparasi ini disimpan dalam kolom baru dengan nama “lebih_baik”, isinya adalah TRUE apabila jumlah kasus baru pekan ini lebih rendah dibandingkan jumlah kasus pekan lalu\n",
    "\n",
    "Lengkapilah baris kode berikut untuk mengerjakan tahapan yang telah Anda rencanakan! Anda akan menggunakan fungsi lag() dari dplyr untuk membuat kolom “jumlah_pekanlalu”. Perhatikan bahwa disini fungsi tersebut dituliskan sebagai dplyr::lag() untuk menghindari konflik dengan fungsi lag() dari paket stats. Inspeksi hasil pekerjaan Anda dengan menggunakan fungsi glimpse()!"
   ]
  },
  {
   "cell_type": "code",
   "execution_count": null,
   "metadata": {},
   "outputs": [],
   "source": [
    "library(dplyr)\n",
    "\n",
    "cov_jabar_pekanan <-\n",
    "  cov_jabar_pekanan %>% \n",
    "  mutate(\n",
    "    jumlah_pekanlalu = dplyr::lag(jumlah, 1),\n",
    "    jumlah_pekanlalu = ifelse(is.na(jumlah_pekanlalu), 0, jumlah_pekanlalu),\n",
    "    lebih_baik = jumlah < jumlah_pekanlalu\n",
    "  )\n",
    "\n",
    "glimpse(cov_jabar_pekanan)"
   ]
  },
  {
   "cell_type": "markdown",
   "metadata": {},
   "source": [
    "# Membuat Bar Chart\n",
    "\n",
    "Anda sungguh luar biasa! Dengan menggunakan data hasil perhitungan tersebut maka sekarang Anda dapat membuat bar-chat penambahan kasus pekanan yang ditambahkan informasi baru untuk menjawab pertanyaan: “Apakah pekan ini lebih baik?”"
   ]
  },
  {
   "cell_type": "code",
   "execution_count": null,
   "metadata": {},
   "outputs": [],
   "source": [
    "library(ggplot2)\n",
    "library(hrbrthemes)\n",
    "\n",
    "ggplot(cov_jabar_pekanan, aes(pekan_ke, jumlah, fill = lebih_baik)) +\n",
    "  geom_col(show.legend = FALSE) +\n",
    "  scale_x_continuous(breaks = 9:29, expand = c(0, 0)) +\n",
    "  scale_fill_manual(values = c(\"TRUE\" = \"seagreen3\", \"FALSE\" = \"salmon\")) +\n",
    "  labs(\n",
    "    x = NULL,\n",
    "    y = \"Jumlah kasus\",\n",
    "    title = \"Kasus Pekanan Positif COVID-19 di Jawa Barat\",\n",
    "    subtitle = \"Kolom hijau menunjukan penambahan kasus baru lebih sedikit dibandingkan satu pekan sebelumnya\",\n",
    "    caption = \"Sumber data: covid.19.go.id\"\n",
    "  ) +\n",
    "  theme_ipsum(\n",
    "    base_size = 13,\n",
    "    plot_title_size = 21,\n",
    "    grid = \"Y\",\n",
    "    ticks = TRUE\n",
    "  ) +\n",
    "  theme(plot.title.position = \"plot\")"
   ]
  },
  {
   "cell_type": "markdown",
   "metadata": {},
   "source": [
    "# Pola dan Dinamika\n",
    "\n",
    "Ada yang akhirnya sembuh, namun tak sedikit pula yang meninggal akibat COVID-19. Sementara itu penambahan kasus baru terus terjadi di masyarakat. Hal ini mungkin memicu pertanyaan lain di diri Anda: “Hingga saat ini ada berapa kasus yang masih aktif?”. Aktif dalam artian sedang dalam perawatan atau isolasi.\n",
    "\n",
    "Informasi ini sebenarnya telah disediakan di dalam respon API covid19.go.id yang Anda minta. Namun tidak ada salahnya jika Anda mencoba menghitungnya sendiri, apakah Anda setuju?\n",
    "\n",
    "Jumlah kasus aktif dapat dihitung dengan cara mengurangi jumlah akumulasi positif dengan jumlah akumulasi sembuh dan jumlah akumulasi meninggal. Anda dapat menggunakan fungsi cumsum() untuk menghitung nilai akumulasi dari suatu vektor numerik. Lengkapilah baris kode berikut untuk menghitung jumlah akumulasi kasus aktif, kasus sembuh, dan kasus meninggal!"
   ]
  },
  {
   "cell_type": "code",
   "execution_count": null,
   "metadata": {},
   "outputs": [],
   "source": [
    "library(dplyr)\n",
    "\n",
    "cov_jabar_akumulasi <- \n",
    "  new_cov_jabar %>% \n",
    "  transmute(\n",
    "    tanggal,\n",
    "    akumulasi_aktif = cumsum(kasus_baru) - cumsum(sembuh) - cumsum(meninggal),\n",
    "    akumulasi_sembuh = cumsum(sembuh),\n",
    "    akumulasi_meninggal = cumsum(meninggal)\n",
    "  )\n",
    "\n",
    "tail(cov_jabar_akumulasi)"
   ]
  },
  {
   "cell_type": "markdown",
   "metadata": {},
   "source": [
    "# Membuat Line Chart\n",
    "\n",
    "Sekarang cobalah Anda buat line-chart pola kasus aktif dengan menggunakan fungsi geom_line(). Sebagai pengingat, Anda dapat menggunakan templat kode berikut untuk membuat grafik menggunakan ggplot2():"
   ]
  },
  {
   "cell_type": "code",
   "execution_count": null,
   "metadata": {},
   "outputs": [],
   "source": [
    "library(ggplot2)\n",
    "\n",
    "ggplot(data = cov_jabar_akumulasi, aes(x = tanggal, y = akumulasi_aktif)) +\n",
    "  geom_line()"
   ]
  },
  {
   "cell_type": "markdown",
   "metadata": {},
   "source": [
    "# Kabar Buruk dan Kabar Baik\n",
    "\n",
    "Sebagai penutup analisis dalam proyek ini Anda diminta untuk membuat grafik komparasi antara akumulasi kasus aktif, kasus sembuh, dan kasus meninggal.\n",
    "\n",
    "Ada dua pilihan cara yang dapat Anda tempuh untuk membuat grafik tersebut:\n",
    "\n",
    "1. Menggunakan data cov_jabar_akumulasi, kemudian buat tiga layer geom_line() untuk setiap kolom satu per satu dengan warna garis yang berbeda; atau\n",
    "\n",
    "2. Melakukan pivot pada data cov_jabar_akumulasi, kemudian buat satu layer geom_line() dengan menggunakan colour aesthetic\n",
    "\n",
    "Anda akan diminta untuk menempuh cara nomor 2, yaitu dengan cara melakukan pivot pada data terlebih dahulu. Ketik TRUE pada konsol jika Anda setuju!"
   ]
  },
  {
   "cell_type": "markdown",
   "metadata": {},
   "source": [
    "# Transformasi Data\n",
    "\n",
    "Anda akan menggunakan fungsi gather() dari paket tidyr untuk mentransformasi data cov_jabar_akumulasi. Data tersebut akan dirubah dari yang semula berformat wide menjadi format long. AKtifkanlah paket tidyr terlebih dahulu dan lengkapilah baris kode berikut untuk melakukan pivot data. Simpan hasil transformasi data tersebut sebagai cov_jabar_akumulasi_pivot! Perhatikan hasil dari fungsi dim() sebelum dan setelah Anda melakukan transformasi data."
   ]
  },
  {
   "cell_type": "code",
   "execution_count": null,
   "metadata": {},
   "outputs": [],
   "source": [
    "library(dplyr)\n",
    "library(tidyr)\n",
    "\n",
    "dim(cov_jabar_akumulasi)\n",
    "\n",
    "cov_jabar_akumulasi_pivot <- \n",
    "  cov_jabar_akumulasi %>% \n",
    "  gather(\n",
    "    key = \"kategori\",\n",
    "    value = \"jumlah\",\n",
    "    -tanggal\n",
    "  ) %>% \n",
    "  mutate(\n",
    "    kategori = sub(pattern = \"akumulasi_\", replacement = \"\", kategori)\n",
    "  )\n",
    "\n",
    "dim(cov_jabar_akumulasi_pivot)\n",
    "\n",
    "glimpse(cov_jabar_akumulasi_pivot)"
   ]
  },
  {
   "attachments": {
    "pivot_longer.png": {
     "image/png": "[encoded data removed]"
    }
   },
   "cell_type": "markdown",
   "metadata": {},
   "source": [
    "# pivot_longer()\n",
    "\n",
    "Semenjak tidyr versi 1.0.0, Anda disarankan untuk menggunakan fungsi pivot_longer() sebagai pengganti gather() dan pivot_wider() sebagai pengganti spread(). pivot_longer() dan pivot_wider() memiliki fitur yang lebih lengkap dibandingkan gather() dan spread(). Proses transformasi cov_jabar_akumulasi menjadi cov_jabar_akumulasi_pivot dapat dikerjakan dengan menggunakan pivot_longer() sebagai berikut:\n",
    "\n",
    "![pivot_longer.png](attachment:pivot_longer.png)\n",
    "\n",
    "Anda dapat mencoba mempraktekkan potongan coding tersebut pada R Studio pada desktop masing-masing dan apakah Anda menemukan perbedaan signifikan antara baris kode di atas dan baris kode sebelumnya yang Anda gunakan?"
   ]
  },
  {
   "cell_type": "markdown",
   "metadata": {},
   "source": [
    "# Tahap Terakhir\n",
    "\n",
    "Anda hampir selesai! Pada tahap terakhir ini Anda cukup salin dan jalankan baris kode berikut di konsol untuk membuat grafik komparasi antara akumulasi kasus aktif, kasus sembuh dan kasus meninggal:"
   ]
  },
  {
   "cell_type": "code",
   "execution_count": null,
   "metadata": {},
   "outputs": [],
   "source": [
    "library(ggplot2)\n",
    "library(hrbrthemes)\n",
    "\n",
    "ggplot(cov_jabar_akumulasi_pivot, aes(tanggal, jumlah, colour = (kategori))) +\n",
    "  geom_line(size = 0.9) +\n",
    "  scale_y_continuous(sec.axis = dup_axis(name = NULL)) +\n",
    "  scale_colour_manual(\n",
    "    values = c(\n",
    "      \"aktif\" = \"salmon\",\n",
    "      \"meninggal\" = \"darkslategray4\",\n",
    "      \"sembuh\" = \"olivedrab2\"\n",
    "    ),\n",
    "      labels = c(\"Aktif\", \"Meninggal\", \"Sembuh\")\n",
    "  ) +\n",
    "    labs(\n",
    "    x = NULL,\n",
    "    y = \"Jumlah kasus akumulasi\",\n",
    "    colour = NULL,\n",
    "    title = \"Dinamika Kasus COVID-19 di Jawa Barat\",\n",
    "    caption = \"Sumber data: covid.19.go.id\"\n",
    "  ) +\n",
    "    theme_ipsum(\n",
    "    base_size = 13,\n",
    "    plot_title_size = 21,\n",
    "    grid = \"Y\",\n",
    "    ticks = TRUE\n",
    "  ) +\n",
    "  theme(\n",
    "    plot.title = element_text(hjust = 0.5),\n",
    "    legend.position = \"top\"\n",
    "  )"
   ]
  },
  {
   "cell_type": "markdown",
   "metadata": {},
   "source": [
    "# Kesimpulan dan Komentar\n",
    "\n",
    "Selamat Anda telah menyelesaikan proyek analisis COVID-19 ini! Anda telah berhasil melakukan impor data melalui API, melakukan transformasi data, serta membuat visualisasi untuk mengkomunikasikan hasil analisis data tentang COVID-19.\n",
    "\n",
    "Anda dipersilakan untuk selanjutnya mengembangkan analisis dengan cara mengambil studi kasus provinsi lain atau bahkan melakukan komparasi antar provinsi. Anda dapat menggunakan skrip dasar yang tersedia pada tautan ini untuk memulai analisis. Dengan menggunakan studi kasus provinsi pilihan Anda, dapatkah Anda menjawab dua tantangan ini:\n",
    "\n",
    "    Apakah jumlah kasus di pekan ini lebih rendah dibandingkan pekan kemarin dan dua pekan kemarin secara berturut-turut? Buatlah visualisasinya!\n",
    "\n",
    "    Salah satu metrik yang dapat dihitung untuk mengamati persebaran COVID-19 di masyarakat adalah ‘Seventh-Day Amplification Factor’ (silakan baca ini dan ini). Dapatkah Anda menghitung metrik tersebut?\n",
    "\n",
    "Silakan bagikan hasil temuan Anda di LinkedIn atau media sosial dengan tag akun DQLab dan saya ya! Semoga Anda tetap sehat, waspada dan tetap tenang dalam menghadapi pandemi COVID-19. Selamat dan sukses selalu!\n"
   ]
  }
 ],
 "metadata": {
  "kernelspec": {
   "display_name": "Python 3",
   "language": "python",
   "name": "python3"
  },
  "language_info": {
   "codemirror_mode": {
    "name": "ipython",
    "version": 3
   },
   "file_extension": ".py",
   "mimetype": "text/x-python",
   "name": "python",
   "nbconvert_exporter": "python",
   "pygments_lexer": "ipython3",
   "version": "3.8.5"
  }
 },
 "nbformat": 4,
 "nbformat_minor": 4
}
